{
  "nbformat": 4,
  "nbformat_minor": 0,
  "metadata": {
    "colab": {
      "provenance": [],
      "collapsed_sections": [
        "bchOZlOxBX4Y"
      ],
      "authorship_tag": "ABX9TyMwH9wo8vVuC5Nk62A9pWs5",
      "include_colab_link": true
    },
    "kernelspec": {
      "name": "python3",
      "display_name": "Python 3"
    },
    "language_info": {
      "name": "python"
    }
  },
  "cells": [
    {
      "cell_type": "markdown",
      "metadata": {
        "id": "view-in-github",
        "colab_type": "text"
      },
      "source": [
        "<a href=\"https://colab.research.google.com/github/drorrusso/ai-playground/blob/main/classification_model_poc/classification_model_poc.ipynb\" target=\"_parent\"><img src=\"https://colab.research.google.com/assets/colab-badge.svg\" alt=\"Open In Colab\"/></a>"
      ]
    },
    {
      "cell_type": "markdown",
      "source": [
        "### POC Objectives\n",
        "\n",
        "This poc is a demonstration of two different approaches to use for binary classification of non-sequential data aiming to predict whether a given user will buy or not buy a specific product.\n",
        "\n",
        "💡 Non-sequential data refers to information that doesn't have a specific order or inherent relationship between its elements.  Here's a breakdown to contrast it with sequential data:\n",
        "\n",
        "**Non-Sequential Data:**\n",
        "\n",
        "* Order Doesn't Matter: The order in which you analyze the data points doesn't significantly affect the overall meaning or insights you extract.\n",
        "* Examples:\n",
        "    * Customer information in a database (name, age, location) - Knowing someone's age before their name doesn't change the understanding of the data.\n",
        "    * Image pixels in a photograph - The order you analyze individual pixels doesn't change the overall image.\n",
        "    * Text documents (excluding narrative text) -  -  In documents like emails, reports, or product descriptions, the order of sentences might not be crucial for understanding the content.\n",
        "\n",
        "**Sequential Data:**\n",
        "\n",
        "* Order Matters:  The order of elements is critical to understanding the data and its meaning.\n",
        "* Examples:\n",
        "    * Text of a novel or news article - The order of sentences is essential for following the story or understanding the events chronologically.\n",
        "    * Time series data (stock prices, sensor readings) - The order of data points captures trends and changes over time.\n",
        "    * DNA sequences - The order of nucleotides determines the genetic code.\n",
        "\n",
        "In essence, non-sequential data is like a collection of independent pieces of information, while sequential data has a inherent structure or flow that dictates how you interpret it.\n",
        "\n",
        "### In this POC, the following methods will be used:\n",
        "1. The first approach will make a use of logistic refression model based on scikit-learn ML library\n",
        "\n",
        "2. The second will make use of deep learning network using TensorFlow and Kerras\n",
        "\n",
        "💡 Here's a breakdown of the differences:\n",
        "\n",
        "**Scikit-learn Models:**\n",
        "\n",
        "* Focus: Ease of use, interpretability, and efficiency.\n",
        "* Examples: Logistic Regression, Support Vector Machines (SVMs), Decision Trees, K-Means clustering.\n",
        "* Inner Workings:  These algorithms employ various mathematical techniques like linear algebra, probability calculations, and optimization algorithms. They don't involve the complex interconnected layers of artificial neurons that define neural networks.\n",
        "\n",
        "**Deep Learning Models (TensorFlow):**\n",
        "\n",
        "* Focus: Modeling complex relationships and achieving high accuracy on large datasets.\n",
        "* Examples: Convolutional Neural Networks (CNNs) for image recognition, Recurrent Neural Networks (RNNs) for language processing.\n",
        "* Inner Workings:  Deep learning models are built using artificial neural networks with multiple interconnected layers. These layers process information progressively, learning features from the data and ultimately making predictions.\n",
        "\n",
        "**Training and Running Models:**\n",
        "\n",
        "* Training:  Both scikit-learn and TensorFlow models involve training the model on a dataset. This process involves the model learning patterns from the data to make predictions on unseen data.\n",
        "* Running Models: Once trained, both types of models can be used to make predictions on new data points. They take new data as input and provide an output based on what they learned during training.\n",
        "\n",
        "### The dataset for this POC\n",
        "Taken originally from: https://www.kaggle.com/datasets/dragonheir/logistic-regression/data\n",
        "\n",
        "Located at: https://raw.githubusercontent.com/drorrusso/ai-playground/main/classification_model_poc/Social_Network_Ads.csv"
      ],
      "metadata": {
        "id": "R7GZS7Xr4kbX"
      }
    },
    {
      "cell_type": "markdown",
      "source": [
        "### Logistic refression model based on scikit-learn ML library"
      ],
      "metadata": {
        "id": "bchOZlOxBX4Y"
      }
    },
    {
      "cell_type": "code",
      "source": [
        "## import dataset from google drive with pandas\n",
        "import pandas as pd\n",
        "df = pd.read_csv('https://raw.githubusercontent.com/drorrusso/ai-playground/main/classification_model_poc/Social_Network_Ads.csv')\n",
        "data = df.drop(columns=['User ID'])\n",
        "#data = pd.get_dummies(data)\n",
        "data['GenderNumerical'] = df['Gender'].map({'Male': 1, 'Female': 0})\n",
        "data\n"
      ],
      "metadata": {
        "id": "Mh_3CTdyBOMT",
        "colab": {
          "base_uri": "https://localhost:8080/",
          "height": 424
        },
        "outputId": "3e5d00c6-db80-4507-8e00-9ca9c01a9597"
      },
      "execution_count": 64,
      "outputs": [
        {
          "output_type": "execute_result",
          "data": {
            "text/plain": [
              "     Gender  Age  EstimatedSalary  Purchased  GenderNumerical\n",
              "0      Male   19            19000          0                1\n",
              "1      Male   35            20000          0                1\n",
              "2    Female   26            43000          0                0\n",
              "3    Female   27            57000          0                0\n",
              "4      Male   19            76000          0                1\n",
              "..      ...  ...              ...        ...              ...\n",
              "395  Female   46            41000          1                0\n",
              "396    Male   51            23000          1                1\n",
              "397  Female   50            20000          1                0\n",
              "398    Male   36            33000          0                1\n",
              "399  Female   49            36000          1                0\n",
              "\n",
              "[400 rows x 5 columns]"
            ],
            "text/html": [
              "\n",
              "  <div id=\"df-02398137-52cb-4e90-917e-65b7490e7959\" class=\"colab-df-container\">\n",
              "    <div>\n",
              "<style scoped>\n",
              "    .dataframe tbody tr th:only-of-type {\n",
              "        vertical-align: middle;\n",
              "    }\n",
              "\n",
              "    .dataframe tbody tr th {\n",
              "        vertical-align: top;\n",
              "    }\n",
              "\n",
              "    .dataframe thead th {\n",
              "        text-align: right;\n",
              "    }\n",
              "</style>\n",
              "<table border=\"1\" class=\"dataframe\">\n",
              "  <thead>\n",
              "    <tr style=\"text-align: right;\">\n",
              "      <th></th>\n",
              "      <th>Gender</th>\n",
              "      <th>Age</th>\n",
              "      <th>EstimatedSalary</th>\n",
              "      <th>Purchased</th>\n",
              "      <th>GenderNumerical</th>\n",
              "    </tr>\n",
              "  </thead>\n",
              "  <tbody>\n",
              "    <tr>\n",
              "      <th>0</th>\n",
              "      <td>Male</td>\n",
              "      <td>19</td>\n",
              "      <td>19000</td>\n",
              "      <td>0</td>\n",
              "      <td>1</td>\n",
              "    </tr>\n",
              "    <tr>\n",
              "      <th>1</th>\n",
              "      <td>Male</td>\n",
              "      <td>35</td>\n",
              "      <td>20000</td>\n",
              "      <td>0</td>\n",
              "      <td>1</td>\n",
              "    </tr>\n",
              "    <tr>\n",
              "      <th>2</th>\n",
              "      <td>Female</td>\n",
              "      <td>26</td>\n",
              "      <td>43000</td>\n",
              "      <td>0</td>\n",
              "      <td>0</td>\n",
              "    </tr>\n",
              "    <tr>\n",
              "      <th>3</th>\n",
              "      <td>Female</td>\n",
              "      <td>27</td>\n",
              "      <td>57000</td>\n",
              "      <td>0</td>\n",
              "      <td>0</td>\n",
              "    </tr>\n",
              "    <tr>\n",
              "      <th>4</th>\n",
              "      <td>Male</td>\n",
              "      <td>19</td>\n",
              "      <td>76000</td>\n",
              "      <td>0</td>\n",
              "      <td>1</td>\n",
              "    </tr>\n",
              "    <tr>\n",
              "      <th>...</th>\n",
              "      <td>...</td>\n",
              "      <td>...</td>\n",
              "      <td>...</td>\n",
              "      <td>...</td>\n",
              "      <td>...</td>\n",
              "    </tr>\n",
              "    <tr>\n",
              "      <th>395</th>\n",
              "      <td>Female</td>\n",
              "      <td>46</td>\n",
              "      <td>41000</td>\n",
              "      <td>1</td>\n",
              "      <td>0</td>\n",
              "    </tr>\n",
              "    <tr>\n",
              "      <th>396</th>\n",
              "      <td>Male</td>\n",
              "      <td>51</td>\n",
              "      <td>23000</td>\n",
              "      <td>1</td>\n",
              "      <td>1</td>\n",
              "    </tr>\n",
              "    <tr>\n",
              "      <th>397</th>\n",
              "      <td>Female</td>\n",
              "      <td>50</td>\n",
              "      <td>20000</td>\n",
              "      <td>1</td>\n",
              "      <td>0</td>\n",
              "    </tr>\n",
              "    <tr>\n",
              "      <th>398</th>\n",
              "      <td>Male</td>\n",
              "      <td>36</td>\n",
              "      <td>33000</td>\n",
              "      <td>0</td>\n",
              "      <td>1</td>\n",
              "    </tr>\n",
              "    <tr>\n",
              "      <th>399</th>\n",
              "      <td>Female</td>\n",
              "      <td>49</td>\n",
              "      <td>36000</td>\n",
              "      <td>1</td>\n",
              "      <td>0</td>\n",
              "    </tr>\n",
              "  </tbody>\n",
              "</table>\n",
              "<p>400 rows × 5 columns</p>\n",
              "</div>\n",
              "    <div class=\"colab-df-buttons\">\n",
              "\n",
              "  <div class=\"colab-df-container\">\n",
              "    <button class=\"colab-df-convert\" onclick=\"convertToInteractive('df-02398137-52cb-4e90-917e-65b7490e7959')\"\n",
              "            title=\"Convert this dataframe to an interactive table.\"\n",
              "            style=\"display:none;\">\n",
              "\n",
              "  <svg xmlns=\"http://www.w3.org/2000/svg\" height=\"24px\" viewBox=\"0 -960 960 960\">\n",
              "    <path d=\"M120-120v-720h720v720H120Zm60-500h600v-160H180v160Zm220 220h160v-160H400v160Zm0 220h160v-160H400v160ZM180-400h160v-160H180v160Zm440 0h160v-160H620v160ZM180-180h160v-160H180v160Zm440 0h160v-160H620v160Z\"/>\n",
              "  </svg>\n",
              "    </button>\n",
              "\n",
              "  <style>\n",
              "    .colab-df-container {\n",
              "      display:flex;\n",
              "      gap: 12px;\n",
              "    }\n",
              "\n",
              "    .colab-df-convert {\n",
              "      background-color: #E8F0FE;\n",
              "      border: none;\n",
              "      border-radius: 50%;\n",
              "      cursor: pointer;\n",
              "      display: none;\n",
              "      fill: #1967D2;\n",
              "      height: 32px;\n",
              "      padding: 0 0 0 0;\n",
              "      width: 32px;\n",
              "    }\n",
              "\n",
              "    .colab-df-convert:hover {\n",
              "      background-color: #E2EBFA;\n",
              "      box-shadow: 0px 1px 2px rgba(60, 64, 67, 0.3), 0px 1px 3px 1px rgba(60, 64, 67, 0.15);\n",
              "      fill: #174EA6;\n",
              "    }\n",
              "\n",
              "    .colab-df-buttons div {\n",
              "      margin-bottom: 4px;\n",
              "    }\n",
              "\n",
              "    [theme=dark] .colab-df-convert {\n",
              "      background-color: #3B4455;\n",
              "      fill: #D2E3FC;\n",
              "    }\n",
              "\n",
              "    [theme=dark] .colab-df-convert:hover {\n",
              "      background-color: #434B5C;\n",
              "      box-shadow: 0px 1px 3px 1px rgba(0, 0, 0, 0.15);\n",
              "      filter: drop-shadow(0px 1px 2px rgba(0, 0, 0, 0.3));\n",
              "      fill: #FFFFFF;\n",
              "    }\n",
              "  </style>\n",
              "\n",
              "    <script>\n",
              "      const buttonEl =\n",
              "        document.querySelector('#df-02398137-52cb-4e90-917e-65b7490e7959 button.colab-df-convert');\n",
              "      buttonEl.style.display =\n",
              "        google.colab.kernel.accessAllowed ? 'block' : 'none';\n",
              "\n",
              "      async function convertToInteractive(key) {\n",
              "        const element = document.querySelector('#df-02398137-52cb-4e90-917e-65b7490e7959');\n",
              "        const dataTable =\n",
              "          await google.colab.kernel.invokeFunction('convertToInteractive',\n",
              "                                                    [key], {});\n",
              "        if (!dataTable) return;\n",
              "\n",
              "        const docLinkHtml = 'Like what you see? Visit the ' +\n",
              "          '<a target=\"_blank\" href=https://colab.research.google.com/notebooks/data_table.ipynb>data table notebook</a>'\n",
              "          + ' to learn more about interactive tables.';\n",
              "        element.innerHTML = '';\n",
              "        dataTable['output_type'] = 'display_data';\n",
              "        await google.colab.output.renderOutput(dataTable, element);\n",
              "        const docLink = document.createElement('div');\n",
              "        docLink.innerHTML = docLinkHtml;\n",
              "        element.appendChild(docLink);\n",
              "      }\n",
              "    </script>\n",
              "  </div>\n",
              "\n",
              "\n",
              "<div id=\"df-960cf5fd-8ca7-44b2-8b44-b94eed48e1ea\">\n",
              "  <button class=\"colab-df-quickchart\" onclick=\"quickchart('df-960cf5fd-8ca7-44b2-8b44-b94eed48e1ea')\"\n",
              "            title=\"Suggest charts\"\n",
              "            style=\"display:none;\">\n",
              "\n",
              "<svg xmlns=\"http://www.w3.org/2000/svg\" height=\"24px\"viewBox=\"0 0 24 24\"\n",
              "     width=\"24px\">\n",
              "    <g>\n",
              "        <path d=\"M19 3H5c-1.1 0-2 .9-2 2v14c0 1.1.9 2 2 2h14c1.1 0 2-.9 2-2V5c0-1.1-.9-2-2-2zM9 17H7v-7h2v7zm4 0h-2V7h2v10zm4 0h-2v-4h2v4z\"/>\n",
              "    </g>\n",
              "</svg>\n",
              "  </button>\n",
              "\n",
              "<style>\n",
              "  .colab-df-quickchart {\n",
              "      --bg-color: #E8F0FE;\n",
              "      --fill-color: #1967D2;\n",
              "      --hover-bg-color: #E2EBFA;\n",
              "      --hover-fill-color: #174EA6;\n",
              "      --disabled-fill-color: #AAA;\n",
              "      --disabled-bg-color: #DDD;\n",
              "  }\n",
              "\n",
              "  [theme=dark] .colab-df-quickchart {\n",
              "      --bg-color: #3B4455;\n",
              "      --fill-color: #D2E3FC;\n",
              "      --hover-bg-color: #434B5C;\n",
              "      --hover-fill-color: #FFFFFF;\n",
              "      --disabled-bg-color: #3B4455;\n",
              "      --disabled-fill-color: #666;\n",
              "  }\n",
              "\n",
              "  .colab-df-quickchart {\n",
              "    background-color: var(--bg-color);\n",
              "    border: none;\n",
              "    border-radius: 50%;\n",
              "    cursor: pointer;\n",
              "    display: none;\n",
              "    fill: var(--fill-color);\n",
              "    height: 32px;\n",
              "    padding: 0;\n",
              "    width: 32px;\n",
              "  }\n",
              "\n",
              "  .colab-df-quickchart:hover {\n",
              "    background-color: var(--hover-bg-color);\n",
              "    box-shadow: 0 1px 2px rgba(60, 64, 67, 0.3), 0 1px 3px 1px rgba(60, 64, 67, 0.15);\n",
              "    fill: var(--button-hover-fill-color);\n",
              "  }\n",
              "\n",
              "  .colab-df-quickchart-complete:disabled,\n",
              "  .colab-df-quickchart-complete:disabled:hover {\n",
              "    background-color: var(--disabled-bg-color);\n",
              "    fill: var(--disabled-fill-color);\n",
              "    box-shadow: none;\n",
              "  }\n",
              "\n",
              "  .colab-df-spinner {\n",
              "    border: 2px solid var(--fill-color);\n",
              "    border-color: transparent;\n",
              "    border-bottom-color: var(--fill-color);\n",
              "    animation:\n",
              "      spin 1s steps(1) infinite;\n",
              "  }\n",
              "\n",
              "  @keyframes spin {\n",
              "    0% {\n",
              "      border-color: transparent;\n",
              "      border-bottom-color: var(--fill-color);\n",
              "      border-left-color: var(--fill-color);\n",
              "    }\n",
              "    20% {\n",
              "      border-color: transparent;\n",
              "      border-left-color: var(--fill-color);\n",
              "      border-top-color: var(--fill-color);\n",
              "    }\n",
              "    30% {\n",
              "      border-color: transparent;\n",
              "      border-left-color: var(--fill-color);\n",
              "      border-top-color: var(--fill-color);\n",
              "      border-right-color: var(--fill-color);\n",
              "    }\n",
              "    40% {\n",
              "      border-color: transparent;\n",
              "      border-right-color: var(--fill-color);\n",
              "      border-top-color: var(--fill-color);\n",
              "    }\n",
              "    60% {\n",
              "      border-color: transparent;\n",
              "      border-right-color: var(--fill-color);\n",
              "    }\n",
              "    80% {\n",
              "      border-color: transparent;\n",
              "      border-right-color: var(--fill-color);\n",
              "      border-bottom-color: var(--fill-color);\n",
              "    }\n",
              "    90% {\n",
              "      border-color: transparent;\n",
              "      border-bottom-color: var(--fill-color);\n",
              "    }\n",
              "  }\n",
              "</style>\n",
              "\n",
              "  <script>\n",
              "    async function quickchart(key) {\n",
              "      const quickchartButtonEl =\n",
              "        document.querySelector('#' + key + ' button');\n",
              "      quickchartButtonEl.disabled = true;  // To prevent multiple clicks.\n",
              "      quickchartButtonEl.classList.add('colab-df-spinner');\n",
              "      try {\n",
              "        const charts = await google.colab.kernel.invokeFunction(\n",
              "            'suggestCharts', [key], {});\n",
              "      } catch (error) {\n",
              "        console.error('Error during call to suggestCharts:', error);\n",
              "      }\n",
              "      quickchartButtonEl.classList.remove('colab-df-spinner');\n",
              "      quickchartButtonEl.classList.add('colab-df-quickchart-complete');\n",
              "    }\n",
              "    (() => {\n",
              "      let quickchartButtonEl =\n",
              "        document.querySelector('#df-960cf5fd-8ca7-44b2-8b44-b94eed48e1ea button');\n",
              "      quickchartButtonEl.style.display =\n",
              "        google.colab.kernel.accessAllowed ? 'block' : 'none';\n",
              "    })();\n",
              "  </script>\n",
              "</div>\n",
              "\n",
              "  <div id=\"id_ea1ad805-e4c5-4755-b2bd-00c92f789a2d\">\n",
              "    <style>\n",
              "      .colab-df-generate {\n",
              "        background-color: #E8F0FE;\n",
              "        border: none;\n",
              "        border-radius: 50%;\n",
              "        cursor: pointer;\n",
              "        display: none;\n",
              "        fill: #1967D2;\n",
              "        height: 32px;\n",
              "        padding: 0 0 0 0;\n",
              "        width: 32px;\n",
              "      }\n",
              "\n",
              "      .colab-df-generate:hover {\n",
              "        background-color: #E2EBFA;\n",
              "        box-shadow: 0px 1px 2px rgba(60, 64, 67, 0.3), 0px 1px 3px 1px rgba(60, 64, 67, 0.15);\n",
              "        fill: #174EA6;\n",
              "      }\n",
              "\n",
              "      [theme=dark] .colab-df-generate {\n",
              "        background-color: #3B4455;\n",
              "        fill: #D2E3FC;\n",
              "      }\n",
              "\n",
              "      [theme=dark] .colab-df-generate:hover {\n",
              "        background-color: #434B5C;\n",
              "        box-shadow: 0px 1px 3px 1px rgba(0, 0, 0, 0.15);\n",
              "        filter: drop-shadow(0px 1px 2px rgba(0, 0, 0, 0.3));\n",
              "        fill: #FFFFFF;\n",
              "      }\n",
              "    </style>\n",
              "    <button class=\"colab-df-generate\" onclick=\"generateWithVariable('data')\"\n",
              "            title=\"Generate code using this dataframe.\"\n",
              "            style=\"display:none;\">\n",
              "\n",
              "  <svg xmlns=\"http://www.w3.org/2000/svg\" height=\"24px\"viewBox=\"0 0 24 24\"\n",
              "       width=\"24px\">\n",
              "    <path d=\"M7,19H8.4L18.45,9,17,7.55,7,17.6ZM5,21V16.75L18.45,3.32a2,2,0,0,1,2.83,0l1.4,1.43a1.91,1.91,0,0,1,.58,1.4,1.91,1.91,0,0,1-.58,1.4L9.25,21ZM18.45,9,17,7.55Zm-12,3A5.31,5.31,0,0,0,4.9,8.1,5.31,5.31,0,0,0,1,6.5,5.31,5.31,0,0,0,4.9,4.9,5.31,5.31,0,0,0,6.5,1,5.31,5.31,0,0,0,8.1,4.9,5.31,5.31,0,0,0,12,6.5,5.46,5.46,0,0,0,6.5,12Z\"/>\n",
              "  </svg>\n",
              "    </button>\n",
              "    <script>\n",
              "      (() => {\n",
              "      const buttonEl =\n",
              "        document.querySelector('#id_ea1ad805-e4c5-4755-b2bd-00c92f789a2d button.colab-df-generate');\n",
              "      buttonEl.style.display =\n",
              "        google.colab.kernel.accessAllowed ? 'block' : 'none';\n",
              "\n",
              "      buttonEl.onclick = () => {\n",
              "        google.colab.notebook.generateWithVariable('data');\n",
              "      }\n",
              "      })();\n",
              "    </script>\n",
              "  </div>\n",
              "\n",
              "    </div>\n",
              "  </div>\n"
            ],
            "application/vnd.google.colaboratory.intrinsic+json": {
              "type": "dataframe",
              "variable_name": "data",
              "summary": "{\n  \"name\": \"data\",\n  \"rows\": 400,\n  \"fields\": [\n    {\n      \"column\": \"Gender\",\n      \"properties\": {\n        \"dtype\": \"category\",\n        \"num_unique_values\": 2,\n        \"samples\": [\n          \"Female\",\n          \"Male\"\n        ],\n        \"semantic_type\": \"\",\n        \"description\": \"\"\n      }\n    },\n    {\n      \"column\": \"Age\",\n      \"properties\": {\n        \"dtype\": \"number\",\n        \"std\": 10,\n        \"min\": 18,\n        \"max\": 60,\n        \"num_unique_values\": 43,\n        \"samples\": [\n          50,\n          39\n        ],\n        \"semantic_type\": \"\",\n        \"description\": \"\"\n      }\n    },\n    {\n      \"column\": \"EstimatedSalary\",\n      \"properties\": {\n        \"dtype\": \"number\",\n        \"std\": 34096,\n        \"min\": 15000,\n        \"max\": 150000,\n        \"num_unique_values\": 117,\n        \"samples\": [\n          117000,\n          76000\n        ],\n        \"semantic_type\": \"\",\n        \"description\": \"\"\n      }\n    },\n    {\n      \"column\": \"Purchased\",\n      \"properties\": {\n        \"dtype\": \"number\",\n        \"std\": 0,\n        \"min\": 0,\n        \"max\": 1,\n        \"num_unique_values\": 2,\n        \"samples\": [\n          1,\n          0\n        ],\n        \"semantic_type\": \"\",\n        \"description\": \"\"\n      }\n    },\n    {\n      \"column\": \"GenderNumerical\",\n      \"properties\": {\n        \"dtype\": \"number\",\n        \"std\": 0,\n        \"min\": 0,\n        \"max\": 1,\n        \"num_unique_values\": 2,\n        \"samples\": [\n          0,\n          1\n        ],\n        \"semantic_type\": \"\",\n        \"description\": \"\"\n      }\n    }\n  ]\n}"
            }
          },
          "metadata": {},
          "execution_count": 64
        }
      ]
    },
    {
      "cell_type": "code",
      "source": [
        "# prompt: Using dataframe data: 75% of parchases were made by what age range\n",
        "\n",
        "data.query('Purchased == 1')['Age'].quantile(0.9)\n"
      ],
      "metadata": {
        "colab": {
          "base_uri": "https://localhost:8080/"
        },
        "id": "7zEQmwp3irOj",
        "outputId": "f1cf702a-94a3-4e19-cc18-b856401ea591"
      },
      "execution_count": 65,
      "outputs": [
        {
          "output_type": "execute_result",
          "data": {
            "text/plain": [
              "58.0"
            ]
          },
          "metadata": {},
          "execution_count": 65
        }
      ]
    },
    {
      "cell_type": "code",
      "source": [
        "## check the data\n",
        "print(data.info())\n",
        "print(data.describe())\n",
        "\n",
        "print(data['Purchased'].value_counts())\n",
        "\n"
      ],
      "metadata": {
        "colab": {
          "base_uri": "https://localhost:8080/"
        },
        "id": "EiRS0f3shdDe",
        "outputId": "26c3ab4e-206b-4ed0-c9b1-1748ea5a3d92"
      },
      "execution_count": 66,
      "outputs": [
        {
          "output_type": "stream",
          "name": "stdout",
          "text": [
            "<class 'pandas.core.frame.DataFrame'>\n",
            "RangeIndex: 400 entries, 0 to 399\n",
            "Data columns (total 5 columns):\n",
            " #   Column           Non-Null Count  Dtype \n",
            "---  ------           --------------  ----- \n",
            " 0   Gender           400 non-null    object\n",
            " 1   Age              400 non-null    int64 \n",
            " 2   EstimatedSalary  400 non-null    int64 \n",
            " 3   Purchased        400 non-null    int64 \n",
            " 4   GenderNumerical  400 non-null    int64 \n",
            "dtypes: int64(4), object(1)\n",
            "memory usage: 15.8+ KB\n",
            "None\n",
            "              Age  EstimatedSalary   Purchased  GenderNumerical\n",
            "count  400.000000       400.000000  400.000000       400.000000\n",
            "mean    37.655000     69742.500000    0.357500         0.490000\n",
            "std     10.482877     34096.960282    0.479864         0.500526\n",
            "min     18.000000     15000.000000    0.000000         0.000000\n",
            "25%     29.750000     43000.000000    0.000000         0.000000\n",
            "50%     37.000000     70000.000000    0.000000         0.000000\n",
            "75%     46.000000     88000.000000    1.000000         1.000000\n",
            "max     60.000000    150000.000000    1.000000         1.000000\n",
            "Purchased\n",
            "0    257\n",
            "1    143\n",
            "Name: count, dtype: int64\n"
          ]
        }
      ]
    },
    {
      "cell_type": "code",
      "source": [
        "from sklearn.linear_model import LogisticRegression\n",
        "from sklearn.model_selection import train_test_split\n",
        "from sklearn.metrics import accuracy_score\n",
        "from sklearn.preprocessing import MinMaxScaler, StandardScaler\n",
        "\n",
        "# Split the data into features (X) and target variable (y)\n",
        "# X is Gender, Age, EstimatedSalary columns and y is Purchased\n",
        "X = data[['GenderNumerical', 'Age', 'EstimatedSalary']]\n",
        "y = data['Purchased']\n",
        "\n",
        "# Normalize the data\n",
        "def normalize_data(data):\n",
        "    scaler = StandardScaler()\n",
        "    scaled_data = scaler.fit_transform(data)\n",
        "    return scaled_data\n",
        "\n",
        "scaled_data = normalize_data(X)\n",
        "\n",
        "X_train, X_test, y_train, y_test = train_test_split(scaled_data, y, test_size=0.2, random_state=42)\n",
        "\n",
        "\n",
        "# Initialize the logistic regression model\n",
        "model = LogisticRegression()\n",
        "\n",
        "# Train the model\n",
        "model.fit(X_train, y_train)\n",
        "\n",
        "# Make predictions on the test set\n",
        "y_pred = model.predict(X_test)\n",
        "\n",
        "\n",
        "# Evaluate the model\n",
        "accuracy = accuracy_score(y_test, y_pred)\n",
        "print(\"Accuracy:\", accuracy)"
      ],
      "metadata": {
        "colab": {
          "base_uri": "https://localhost:8080/"
        },
        "id": "vnYlA-gjLuCl",
        "outputId": "89cb06dc-d394-433a-dc82-d8a325ad53f9"
      },
      "execution_count": 67,
      "outputs": [
        {
          "output_type": "stream",
          "name": "stdout",
          "text": [
            "Accuracy: 0.8875\n"
          ]
        }
      ]
    },
    {
      "cell_type": "code",
      "source": [
        "# prompt: plot the above test and prediction\n",
        "import numpy as np\n",
        "import matplotlib.pyplot as plt\n",
        "from sklearn.metrics import roc_curve, confusion_matrix\n",
        "\n",
        "y_pred_proba = model.predict_proba(X_test)[:, 1]  # Get probability of positive class\n",
        "\n",
        "# 2. ROC Curve\n",
        "fpr, tpr, thresholds = roc_curve(y_test, y_pred_proba)\n",
        "plt.plot(fpr, tpr, label='ROC Curve')\n",
        "plt.xlabel('False Positive Rate')\n",
        "plt.ylabel('True Positive Rate')\n",
        "plt.title('ROC Curve (Logistic Regression)')\n",
        "plt.legend()\n",
        "plt.show()\n",
        "\n",
        "# 3. Confusion Matrix (assuming you have pre-defined labels for the target variable)\n",
        "y_pred = model.predict(X_test)\n",
        "cm = confusion_matrix(y_test, y_pred)\n",
        "plt.imshow(cm, cmap='Blues')\n",
        "plt.xlabel('Predicted Label')\n",
        "plt.ylabel('True Label')\n",
        "plt.title('Confusion Matrix (Logistic Regression)')\n",
        "plt.text(0, 0, cm[0, 0], va='center', ha='center')\n",
        "plt.text(0, 1, cm[0, 1], va='center', ha='center')\n",
        "plt.text(1, 0, cm[1, 0], va='center', ha='center')\n",
        "plt.text(1, 1, cm[1, 1], va='center', ha='center')\n",
        "plt.show()\n",
        "\n"
      ],
      "metadata": {
        "colab": {
          "base_uri": "https://localhost:8080/",
          "height": 927
        },
        "id": "5ZAzSU_JdyUm",
        "outputId": "409ac79f-416e-4c7b-edbf-74cc436e0cb6"
      },
      "execution_count": 68,
      "outputs": [
        {
          "output_type": "display_data",
          "data": {
            "text/plain": [
              "<Figure size 640x480 with 1 Axes>"
            ],
            "image/png": "[encoded data removed]"
          },
          "metadata": {}
        },
        {
          "output_type": "display_data",
          "data": {
            "text/plain": [
              "<Figure size 640x480 with 1 Axes>"
            ],
            "image/png": "[encoded data removed]"
          },
          "metadata": {}
        }
      ]
    },
    {
      "cell_type": "code",
      "source": [
        "## run prediction with the following\n",
        "new_data = [\n",
        "     [0, 55, 90000],\n",
        "    [0, 49, 80000],\n",
        "    [0, 49, 35000]\n",
        "]\n",
        "\n",
        "# Create the DataFrame\n",
        "final_X_test = pd.DataFrame(new_data, columns=X.columns)\n",
        "normalized_data = normalize_data(final_X_test)\n",
        "print(normalized_data)\n",
        "\n",
        "\n",
        "final_y_pred = model.predict(normalized_data)\n",
        "print(final_y_pred)\n"
      ],
      "metadata": {
        "colab": {
          "base_uri": "https://localhost:8080/"
        },
        "id": "s5MBIfrX96e1",
        "outputId": "5b6ea91d-38aa-46b5-c33d-bbf72220dba8"
      },
      "execution_count": 69,
      "outputs": [
        {
          "output_type": "stream",
          "name": "stdout",
          "text": [
            "[[ 0.          1.41421356  0.90575292]\n",
            " [ 0.         -0.70710678  0.48771311]\n",
            " [ 0.         -0.70710678 -1.39346603]]\n",
            "[1 0 0]\n"
          ]
        }
      ]
    },
    {
      "cell_type": "markdown",
      "source": [
        "### Binary classification network using TensorFlow"
      ],
      "metadata": {
        "id": "oPOZcaeeMyaB"
      }
    },
    {
      "cell_type": "code",
      "source": [
        "import tensorflow as tf\n",
        "\n",
        "X_tf_train = tf.constant(X_train)\n",
        "X_tf_test = tf.constant(X_test)\n",
        "y_tf_train = tf.constant(y_train)\n",
        "y_tf_test = tf.constant(y_test)\n",
        "\n",
        "\n",
        "def tensor_info(tensor):\n",
        "  print(f\"Type: {type(tensor)}\")\n",
        "  print(f\"Shape: {tensor.shape}\")\n",
        "  print(f\"Data type: {tensor.dtype}\")\n",
        "  print(f\"Number of elements: {tf.size(tensor)}\")\n",
        "  print(f\"Tensor head:\\n{tensor[:5]}\")\n",
        "\n",
        "tensor_info(X_tf_train)\n",
        "tensor_info(X_tf_test)\n",
        "tensor_info(y_tf_train)\n",
        "tensor_info(y_tf_test)\n",
        "\n",
        ""
      ],
      "metadata": {
        "colab": {
          "base_uri": "https://localhost:8080/"
        },
        "id": "GMol_v35QS9m",
        "outputId": "8a816c72-e5ce-4aca-c98d-3fb86924b59e"
      },
      "execution_count": 70,
      "outputs": [
        {
          "output_type": "stream",
          "name": "stdout",
          "text": [
            "Type: <class 'tensorflow.python.framework.ops.EagerTensor'>\n",
            "Shape: (320, 3)\n",
            "Data type: <dtype: 'float64'>\n",
            "Number of elements: 960\n",
            "Tensor head:\n",
            "[[-0.98019606 -1.01769239 -0.37418169]\n",
            " [ 1.02020406  0.79705706 -1.22576253]\n",
            " [-0.98019606  0.12846516  1.88691227]\n",
            " [-0.98019606  0.60603081 -0.9027491 ]\n",
            " [-0.98019606  1.84770149 -1.28449224]]\n",
            "Type: <class 'tensorflow.python.framework.ops.EagerTensor'>\n",
            "Shape: (80, 3)\n",
            "Data type: <dtype: 'float64'>\n",
            "Number of elements: 240\n",
            "Tensor head:\n",
            "[[-0.98019606  0.79705706 -1.40195167]\n",
            " [-0.98019606  2.03872775  0.53612887]\n",
            " [-0.98019606 -0.92217926 -0.75592482]\n",
            " [-0.98019606  0.98808332  0.77104772]\n",
            " [-0.98019606 -0.82666613 -1.22576253]]\n",
            "Type: <class 'tensorflow.python.framework.ops.EagerTensor'>\n",
            "Shape: (320,)\n",
            "Data type: <dtype: 'int64'>\n",
            "Number of elements: 320\n",
            "Tensor head:\n",
            "[0 1 1 0 1]\n",
            "Type: <class 'tensorflow.python.framework.ops.EagerTensor'>\n",
            "Shape: (80,)\n",
            "Data type: <dtype: 'int64'>\n",
            "Number of elements: 80\n",
            "Tensor head:\n",
            "[0 1 0 1 0]\n"
          ]
        }
      ]
    },
    {
      "cell_type": "code",
      "source": [
        "model = tf.keras.Sequential([\n",
        "    tf.keras.layers.Dense(8, activation='relu', input_shape=(3,)),\n",
        "    tf.keras.layers.Dense(1, activation='sigmoid')\n",
        "])\n",
        "\n",
        "model.compile(optimizer=tf.keras.optimizers.Adam(learning_rate=0.015), loss='binary_crossentropy', metrics=['accuracy'])\n",
        "\n",
        "history = model.fit(X_tf_train, y_tf_train, epochs=10, validation_data=(X_tf_test, y_tf_test))\n"
      ],
      "metadata": {
        "colab": {
          "base_uri": "https://localhost:8080/"
        },
        "id": "z11o-Cq2TqEv",
        "outputId": "21ee517c-e935-4a6f-ce94-20ef806b926b"
      },
      "execution_count": 91,
      "outputs": [
        {
          "output_type": "stream",
          "name": "stdout",
          "text": [
            "Epoch 1/10\n",
            "10/10 [==============================] - 1s 49ms/step - loss: 0.7514 - accuracy: 0.5500 - val_loss: 0.5609 - val_accuracy: 0.8125\n",
            "Epoch 2/10\n",
            "10/10 [==============================] - 0s 11ms/step - loss: 0.5203 - accuracy: 0.7719 - val_loss: 0.4134 - val_accuracy: 0.8375\n",
            "Epoch 3/10\n",
            "10/10 [==============================] - 0s 10ms/step - loss: 0.4316 - accuracy: 0.8125 - val_loss: 0.3429 - val_accuracy: 0.8250\n",
            "Epoch 4/10\n",
            "10/10 [==============================] - 0s 11ms/step - loss: 0.3869 - accuracy: 0.8313 - val_loss: 0.3026 - val_accuracy: 0.8625\n",
            "Epoch 5/10\n",
            "10/10 [==============================] - 0s 11ms/step - loss: 0.3619 - accuracy: 0.8531 - val_loss: 0.2793 - val_accuracy: 0.8500\n",
            "Epoch 6/10\n",
            "10/10 [==============================] - 0s 9ms/step - loss: 0.3461 - accuracy: 0.8531 - val_loss: 0.2605 - val_accuracy: 0.8500\n",
            "Epoch 7/10\n",
            "10/10 [==============================] - 0s 11ms/step - loss: 0.3316 - accuracy: 0.8625 - val_loss: 0.2442 - val_accuracy: 0.8500\n",
            "Epoch 8/10\n",
            "10/10 [==============================] - 0s 12ms/step - loss: 0.3230 - accuracy: 0.8594 - val_loss: 0.2325 - val_accuracy: 0.8750\n",
            "Epoch 9/10\n",
            "10/10 [==============================] - 0s 27ms/step - loss: 0.3130 - accuracy: 0.8656 - val_loss: 0.2250 - val_accuracy: 0.9000\n",
            "Epoch 10/10\n",
            "10/10 [==============================] - 0s 34ms/step - loss: 0.3019 - accuracy: 0.8750 - val_loss: 0.2195 - val_accuracy: 0.9250\n"
          ]
        }
      ]
    },
    {
      "cell_type": "code",
      "source": [
        "\n",
        "model.evaluate(X_tf_test, y_tf_test)\n",
        "prediction = model.predict(normalized_data)\n",
        "print(tf.math.round(prediction))"
      ],
      "metadata": {
        "colab": {
          "base_uri": "https://localhost:8080/"
        },
        "id": "s7REHORXbLHw",
        "outputId": "9a19f9f8-0a15-4c71-de1e-80f0c9afefa3"
      },
      "execution_count": 95,
      "outputs": [
        {
          "output_type": "stream",
          "name": "stdout",
          "text": [
            "3/3 [==============================] - 0s 8ms/step - loss: 0.2195 - accuracy: 0.9250\n",
            "1/1 [==============================] - 0s 80ms/step\n",
            "tf.Tensor(\n",
            "[[1.]\n",
            " [0.]\n",
            " [0.]], shape=(3, 1), dtype=float32)\n"
          ]
        }
      ]
    },
    {
      "cell_type": "code",
      "source": [
        "# prompt: plot a confution matrix\n",
        "\n",
        "import matplotlib.pyplot as plt\n",
        "import seaborn as sns\n",
        "from sklearn.metrics import confusion_matrix\n",
        "\n",
        "# Get predictions for the test data\n",
        "y_pred = model.predict(X_test)\n",
        "\n",
        "# Convert the predictions to binary values (0 or 1)\n",
        "y_pred_binary = [int(round(p[0])) for p in y_pred]\n",
        "\n",
        "# Get the confusion matrix\n",
        "cm = confusion_matrix(y_test, y_pred_binary)\n",
        "\n",
        "# Create a heatmap of the confusion matrix\n",
        "sns.heatmap(cm, annot=True, fmt=\"d\", cmap=\"Blues\", xticklabels=['Not Purchased', 'Purchased'], yticklabels=['Not Purchased', 'Purchased'])\n",
        "\n",
        "# Set labels and title\n",
        "plt.xlabel(\"Predicted\")\n",
        "plt.ylabel(\"Actual\")\n",
        "plt.title(\"Confusion Matrix\")\n",
        "\n",
        "# Display the heatmap\n",
        "plt.show()\n"
      ],
      "metadata": {
        "colab": {
          "base_uri": "https://localhost:8080/",
          "height": 490
        },
        "id": "BUhGw2ypgLDN",
        "outputId": "479d6a50-3e89-4278-8067-f2cf6946478f"
      },
      "execution_count": 97,
      "outputs": [
        {
          "output_type": "stream",
          "name": "stdout",
          "text": [
            "3/3 [==============================] - 0s 8ms/step\n"
          ]
        },
        {
          "output_type": "display_data",
          "data": {
            "text/plain": [
              "<Figure size 640x480 with 2 Axes>"
            ],
            "image/png": "[encoded data removed]"
          },
          "metadata": {}
        }
      ]
    }
  ]
}