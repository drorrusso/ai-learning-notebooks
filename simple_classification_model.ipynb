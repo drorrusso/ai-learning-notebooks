{
 "nbformat": 4,
 "nbformat_minor": 0,
 "metadata": {
  "colab": {
   "provenance": [],
   "machine_shape": "hm",
   "gpuType": "T4",
   "toc_visible": true,
   "include_colab_link": true
  },
  "kernelspec": {
   "name": "python3",
   "display_name": "Python 3"
  },
  "accelerator": "GPU"
 },
 "cells": [
  {
   "cell_type": "markdown",
   "metadata": {
    "id": "view-in-github",
    "colab_type": "text"
   },
   "source": [
    "<a href=\"https://colab.research.google.com/github/drorrusso/ai-playground/blob/main/simple_classification_model.ipynb\" target=\"_parent\"><img src=\"https://colab.research.google.com/assets/colab-badge.svg\" alt=\"Open In Colab\"/></a>"
   ]
  },
  {
   "cell_type": "markdown",
   "source": [
    "# New Section"
   ],
   "metadata": {
    "id": "NwU_9QVr85fa"
   }
  },
  {
   "cell_type": "markdown",
   "source": [
    "My classification model"
   ],
   "metadata": {
    "id": "qEbmeXCf86vP"
   }
  },
  {
   "cell_type": "code",
   "source": "test",
   "metadata": {
    "id": "0CBMHW5w891z"
   },
   "execution_count": null,
   "outputs": []
  }
 ]
}
