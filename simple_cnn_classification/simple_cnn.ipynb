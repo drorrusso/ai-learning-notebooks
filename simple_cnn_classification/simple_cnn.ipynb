{
  "nbformat": 4,
  "nbformat_minor": 0,
  "metadata": {
    "colab": {
      "provenance": [],
      "authorship_tag": "ABX9TyMx0S/zh7DUcnHq4bODBDq3",
      "include_colab_link": true
    },
    "kernelspec": {
      "name": "python3",
      "display_name": "Python 3"
    },
    "language_info": {
      "name": "python"
    }
  },
  "cells": [
    {
      "cell_type": "markdown",
      "metadata": {
        "id": "view-in-github",
        "colab_type": "text"
      },
      "source": [
        "<a href=\"https://colab.research.google.com/github/drorrusso/ai-learning-playground/blob/main/simple_cnn_classification/simple_cnn.ipynb\" target=\"_parent\"><img src=\"https://colab.research.google.com/assets/colab-badge.svg\" alt=\"Open In Colab\"/></a>"
      ]
    },
    {
      "cell_type": "markdown",
      "source": [
        "## This is a simple CNN experiment: classify whether a given picture of food contains pizza or steak\n",
        "\n",
        "The main objective is to learn the fundementals of a GNN network and learn how to optimize it for better results.\n",
        "\n",
        "The CNN structure is based on [TinyVGG](https://github.com/poloclub/cnn-explainer/blob/master/tiny-vgg/tiny-vgg.py) and the data a subset of food dataset from [Food 101](https://data.vision.ee.ethz.ch/cvl/datasets_extra/food-101/) and downloaded from: https://storage.googleapis.com/ztm_tf_course/food_vision/pizza_steak.zip.\n"
      ],
      "metadata": {
        "id": "bH4pqqTeqt7Z"
      }
    },
    {
      "cell_type": "code",
      "source": [
        "import tensorflow as tf\n"
      ],
      "metadata": {
        "id": "Um68WaD_vrve"
      },
      "execution_count": null,
      "outputs": []
    },
    {
      "cell_type": "code",
      "source": [],
      "metadata": {
        "id": "b1jGAd87v7LK"
      },
      "execution_count": null,
      "outputs": []
    }
  ]
}